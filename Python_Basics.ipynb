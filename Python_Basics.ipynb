{
  "nbformat": 4,
  "nbformat_minor": 0,
  "metadata": {
    "colab": {
      "provenance": []
    },
    "kernelspec": {
      "name": "python3",
      "display_name": "Python 3"
    },
    "language_info": {
      "name": "python"
    }
  },
  "cells": [
    {
      "cell_type": "code",
      "execution_count": null,
      "metadata": {
        "id": "DuVd8Dzsw9q-"
      },
      "outputs": [],
      "source": []
    },
    {
      "cell_type": "markdown",
      "source": [
        "#\"Python Basics\" Question Answers!\n",
        "bold text"
      ],
      "metadata": {
        "id": "BX16ntyHyABl"
      }
    },
    {
      "cell_type": "markdown",
      "source": [
        "<B>Ques_1)  What is Python, and why is it popular?</B><br>\n",
        "        -> <B>'Python'</B> is an interpreted, high-level, general purpose programming language which was developed by <I>Guido Van Rossum</I> and was first published in the year 1991 and still actively developing till now.<br>\n",
        "        <B>Python</B> gained its <i>popularity</i> due to its perfect balance of <Ins>'Simplicity, versatality and power'</ins>.<br>\n",
        "        1. It's easy to learn and readable(being the best choice for beginners).<br>\n",
        "        2.It provides a huge library support('ready-made' libraries).<br>\n",
        "        <ol>*Web Development: Django, Flask, FastAPI<br>\n",
        "*Data Analysis and Manipulation: pandas, NumPy<br>\n",
        "*Machine Learning and Deep Learning: scikit-learn, TensorFlow, PyTorch etc<br>\n",
        "*Data Visualization: Matplotlib, Seaborn<br>\n",
        "*Image Processing: Pillow, OpenCV<br>\n",
        "*Scientific Computing: SymPy<br>\n",
        "and many more..</ol><br>3.Strong community support. Python community supports all the best written codes that are reusable by not only the one who made it but is accessible to every user publicly.\n",
        "\n",
        "\n",
        "\n",
        "        \n",
        "        \n",
        "\n",
        "\n",
        "\n",
        "\n"
      ],
      "metadata": {
        "id": "WT41NdLM0GIe"
      }
    },
    {
      "cell_type": "markdown",
      "source": [
        "<B>Ques_2) What is an interpreter in Python ?</B><br>\n",
        "        -> An <ins>interpreter</ins> in Python is like a translator that reads Python code line by line and execute it immediately unlike other compiled languages which are entirely converted into machine code first before it's execution. When we write some code in Python it executed at runtime, line by line, without a separate compilation step to create an executable file.<br>\n",
        "        For example. we type the following python code, Python starts with reading the first line \"says hello\", then goes to the next line and shows \"how are you?\" if any line has an error, the interpreter stops executing there,but the lines before it still runs. This is why Python program runs immediately without creating a separate file like.exe.\n"
      ],
      "metadata": {
        "id": "r7uyEpmstRf9"
      }
    },
    {
      "cell_type": "code",
      "source": [
        "print(\"Hello\")\n",
        "print(\"How are you?\")"
      ],
      "metadata": {
        "colab": {
          "base_uri": "https://localhost:8080/"
        },
        "id": "UUxh5PiRDLrN",
        "outputId": "eeb6e19d-3579-4454-ae5b-485e67b709b5"
      },
      "execution_count": null,
      "outputs": [
        {
          "output_type": "stream",
          "name": "stdout",
          "text": [
            "Hello\n",
            "How are you?\n"
          ]
        }
      ]
    },
    {
      "cell_type": "markdown",
      "source": [
        "<B>Ques_3) What are pre-defined keywords in Python?</B><br>\n",
        "-> <ins>Keywords</ins> are reserved words that have a special meaning to the language\n",
        "translator. It represents some definitive functionality. These words cannot be\n",
        "used as identifier names.<br> There are <b>35 keywords</b> in Python.Those are listed below<br>\n",
        "True, False, None, and, or, not, is, if, elif, else, while,\n",
        "for, break, continue, return, in, yield, try, except, finally,\n",
        "raise, assert, import, from, as, class, def, pass, global,\n",
        "nonlocal, lambda, del, with   \n",
        "Except True, False, & None reserved words, all contain only lowercase\n",
        "alphabet symbols."
      ],
      "metadata": {
        "id": "cD1lqaHoFOkT"
      }
    },
    {
      "cell_type": "markdown",
      "source": [
        "<B>Ques_4)  Can keywords be used as variable names?</B><BR>\n",
        "-> No, keywords cannot be used as variable names in Python. Python keywords are reserved words that have special meanings to them. They are recognised by the Python interpreter and serve specific purposes. If someone attempts to use keyboard as a variable name it will result in a sentence error."
      ],
      "metadata": {
        "id": "j8oWuVGCHPGj"
      }
    },
    {
      "cell_type": "markdown",
      "source": [
        "<B>Ques_5) What is mutability in Python ?</B><BR>\n",
        "-> The term <ins>\"mutable\"</ins> refers to the ability of an object to be modified or changed after its creation. In the context of programming mutable objects are those that can be changed or altered without creating a new object or memory address in the memory. <br>\n",
        "example of mutable data types in Python includes:<br> 1 list<br> 2 dictionary <br>3 set<br> 4 byte array.<br>\n",
        "Let me explain this with an example:-"
      ],
      "metadata": {
        "id": "kvoX6rJYIjQ5"
      }
    },
    {
      "cell_type": "code",
      "source": [
        "lst = [1,2,3]\n",
        "print(id(lst))\n",
        "lst.append(4)\n",
        "print(id(lst))\n",
        "\n"
      ],
      "metadata": {
        "colab": {
          "base_uri": "https://localhost:8080/"
        },
        "id": "n4j7XtQTLMbT",
        "outputId": "601b4e4a-9a0d-4ebf-b6fd-956a735d2117"
      },
      "execution_count": null,
      "outputs": [
        {
          "output_type": "stream",
          "name": "stdout",
          "text": [
            "138461742630336\n",
            "138461742630336\n"
          ]
        }
      ]
    },
    {
      "cell_type": "markdown",
      "source": [
        "<B>Ques_6) Why are lists mutable, but tuples are immutable?</B><br>\n",
        "-> The fundamental difference between Python lists and Python tuples lies in their mutability.<BR> Lists are intended for the collection of those items where the contents need to be changed frequently,Whereas Tuples are intended for the collection of those items that will be have fixed sequence or record where the data should not be altered after its creation. But if we somehow manage to change the items in a Tuple, we might get an type error.\n"
      ],
      "metadata": {
        "id": "3cCqrhoHLrIY"
      }
    },
    {
      "cell_type": "markdown",
      "source": [
        "<B>Ques_7) What is the difference between “==” and “is” operators in Python?</B><br>\n",
        "-> In Python, The <ins><i> equality operator(==) and is operator</i></ins> serves different purposes related to assignment and comparison in Python.<br> The <b><ins>equality operator</b></ins> is an comparison operator , which is used to compare the values of two objects. It checks whether the data held by the object is same or not. It returns True if the values are equal and False if not.<BR>Here's an easy explanation of Equality Operator.<br> list_1 = [1,2,3]<br> list_2 = [1,2,3]\n",
        "<br> list_1 == list_2\n",
        "<br>While executing this code,It will return <ins>True</ins>, as their values are identical.<br>\n",
        "The <B><ins>is operator</B></ins> is an Identity operator which is used to compare the identity of two objects. It checks whether 2 variables refer to the exact same object in the memory or not. It returns True, if both the variables point towards the same memory location and False if not.<br>Here's an easy explanation of Identity Operator.<br>list_1 = [1,2,3]<br>list_2 = list_1<br>list_1 is list_2<br> While executing this code, It will return True, as the variables refer to the same list object in the memory."
      ],
      "metadata": {
        "id": "IrddQ4aJNP1U"
      }
    },
    {
      "cell_type": "markdown",
      "source": [
        "<B>Ques_8) What are logical operators in Python?</B><br>\n",
        "-> <B>logical operators</B> are those operators that are used to perform logical calculations on two or more operands or values and produces a result based on the truth values of their inputs. <BR>Examples of logical operators are:<BR><ol><ins>Logical AND</ins> = It returns True if both operands are True.<br><ins>Logical OR</ins> = It returns true only if eiter of the operands are True<br><ins>Logical NOT</ins> = It returns False only if both the operands are False,else return True."
      ],
      "metadata": {
        "id": "XLBgC10sT8Gs"
      }
    },
    {
      "cell_type": "markdown",
      "source": [
        "<b>Ques_9) What is type casting in Python? </b><br>\n",
        "-> In Python typecasting is also known as <B>explicit type conversion</B>. It is the process of manually converting a variable or a value from one data type to another data type. Usually programmers do this by using built-in functions designed for this purpose specifically.<BR>Following are some buil-in functions for explicit type casting:<br>1. <ins>int()</ins> = Coverts a value to an integer data type.  ( like taking a float value or n string containing an integer ) .<br>2. <ins>float()</ins> = Convert a value to a floating point number. Bracket open like taking an integer or a string representing a number bracket close. <br> 3.<ins>str()</ins> = Converts a value to a string. It can take any data type. <br> 4.<ins>bool()</ins> = Converts a value to a boolean (True or False).\n"
      ],
      "metadata": {
        "id": "Zgcel356YZa1"
      }
    },
    {
      "cell_type": "markdown",
      "source": [
        "<B>Ques_10) What is the difference between implicit and explicit type casting?</b><br>\n",
        "-> <b>Implicit type conversion</b> is performed manually by the Python interpreter without any explicit action from the programmer. It typically occurs when Python needs to combine the two different data types in an operation. Python safely converts one data type to another data type by itself.<br><ins>Example:</ins> Integer automatically converted to a float during an arithmetic operation with the float.<br>\n",
        "-><b> Explicit type conversion</b> is a type of conversion which needs to performed manually by the programmers themselves , by using built-in Python functions. it is used to convert a value from one data type to another data type."
      ],
      "metadata": {
        "id": "SK6L2Obmc2-s"
      }
    },
    {
      "cell_type": "markdown",
      "source": [
        "<b>Ques_11) What is the purpose of conditional statements in Python?</b><br>\n",
        "-> The purpose of \"conditional statements\" in Python is to <ins>control the flow of execution</ins> of a program based on whether certain conditions met or not. They enable a program to make decisions and perform different actions depending on those specified conditions.<br>\n",
        "Specifically, conditional statements allow for:-<br><dl>\n",
        "<dt>Decision-Making:</dt>\n",
        "<dd>Programs can evaluate conditions (Example, if x > 0, if user_input == \"yes\") and execute specific blocks of code only if those conditions are true.</dd>\n",
        "<dt>Dynamic Behavior:</dt>\n",
        "<dd>Code can adapt to different inputs, data values, or even scenarios, leading to more flexible and responsive results.</dd>\n",
        "<dt>Handling Different Scenarios:</dt>\n",
        "<dd>we users can define different code paths for different situations, such as handling valid vs. invalid input.</dd>\n",
        "\n",
        "The primary conditional statements in Python are if, elif (else if), and else."
      ],
      "metadata": {
        "id": "5qVNNepPhEmD"
      }
    },
    {
      "cell_type": "markdown",
      "source": [
        "<b>Ques_12) How does the elif statement work?</b><br>\n",
        "-> The <b>\"elif\"</b> word ,which is short for 'else-if', allows for the evaluation of multiple conditions in a sequential manner. Whenever there are sitautions when multiple conditions need to be stated that only just if else statement would not be enough for them, then there came into use the elif statement. The programmers can use an elif statement to state multiple conditions and the related specific actions to be taken.<br>\n",
        "<ins>Here's how it works :-</ins><br>\n",
        "<dt>*Initial if check:<br></dt>\n",
        "<dd>The program first evaluates the condition of the if statement.\n",
        "If the 'if condition' is True, then the code block associated with the if statement is executed, and the entire if-elif-else block is exited.</dd>\n",
        "<dt>*elif evaluations:</dt>\n",
        "<dd>If the 'if condition' is False, the program proceeds to evaluate the condition of the first elif statement.<br>\n",
        "If this elif condition is True, its corresponding code block is executed, and the entire if-elif-else block is exited.<br>\n",
        "If this elif condition is False, the program moves to the next elif statement (if any) and repeats the evaluation process."
      ],
      "metadata": {
        "id": "eknUU3Q9j7s5"
      }
    },
    {
      "cell_type": "code",
      "source": [
        "#Example of how if-elif-else statement works:\n",
        "score = 78\n",
        "\n",
        "if score >= 90:\n",
        "    print(\"Grade: A\")\n",
        "elif score >= 80:\n",
        "    print(\"Grade: B\")\n",
        "elif score >= 70:\n",
        "    print(\"Grade: C\")\n",
        "else:\n",
        "    print(\"Grade: D or F\")"
      ],
      "metadata": {
        "id": "OaO-exFkJ3L_"
      },
      "execution_count": null,
      "outputs": []
    },
    {
      "cell_type": "markdown",
      "source": [
        "<b>Ques_13) What is the difference between for and while loops?</b><br>\n",
        "-> The main difference between <ins> \"for loop\"</ins> and <ins> \"while loop\"</ins> in Python came down to how many times they run and how the loop is controlled. Let me break it down simply:-<br>\n",
        "<br>\n",
        "1.<b> \"for loop\":-</b><br>\n",
        " * <ins>Use :</ins> It is used when the we know how many times we want to repeat the loop.<br>\n",
        " * <ins>How it works:</ins> It iterates over a sequence (like a list, tuple, string or range.)<br>\n",
        " * It automatically stops when the sequence ends.<br>\n",
        " <br>\n",
        " 2.<b> \"while loop\":-</b><br>\n",
        " * <ins>Use :</ins> when the user don't know how many times the loop should run and wanted to run it until a condition becomes false.<br>\n",
        " * <ins>How it works:</ins> It keeps checking the condition before every iteration. <br>\n",
        " * The user must manually change something inside the loop, otherwise it can become infinite.\n"
      ],
      "metadata": {
        "id": "JqA5O8K1RxKw"
      }
    },
    {
      "cell_type": "code",
      "source": [
        "# for loop:\n",
        "# print the number 1 to 10\n",
        "\n",
        "for i in range(1,11):\n",
        "  print(i)"
      ],
      "metadata": {
        "collapsed": true,
        "id": "pqaS8AprVN8R"
      },
      "execution_count": null,
      "outputs": []
    },
    {
      "cell_type": "code",
      "source": [
        "# while loop:\n",
        "# Prints number 1 to 10\n",
        "\n",
        "i = 1\n",
        "while i<= 10:\n",
        "  print(i)\n",
        "  i += 1"
      ],
      "metadata": {
        "id": "_JRdWvMYYZ7V"
      },
      "execution_count": null,
      "outputs": []
    },
    {
      "cell_type": "markdown",
      "source": [
        "<b>Ques_14) Describe a scenario where a while loop is more suitable than a for loop?</b><br>\n",
        "-> A 'while loop' is more suitable than a 'for loop' in situations where:\n",
        "\n",
        "1. The user Don’t Know in Advance How Many Times to Loop as for loops are only best for those situations when user knows the exact number of iterations.\n",
        "\n",
        "2. Looping Until a Condition Changes.\n",
        "\n",
        " 'while loops' are ideal when a condition must become false to stop.\n",
        "\n",
        "Example: Keep halving a number until it becomes less than 1<br>\n",
        "Here, the number of iterations depends on the value, not a fixed count.\n",
        "\n",
        "\n",
        "3. Infinite Loops (Until Manual Break)\n",
        "\n",
        "Why: while True: is a common pattern for programs to run forever until an exit condition is met.\n",
        "\n",
        "In brief, we can use a while loop when the ending condition is based on logic, not a fixed count!\n",
        "\n",
        "[for loop = Count-driven ;\n",
        "\n",
        "while loop = Condition-driven.]"
      ],
      "metadata": {
        "id": "hZGVsd8IYmi0"
      }
    },
    {
      "cell_type": "code",
      "source": [
        "# Example: Keep halving a number until it becomes less than 1\n",
        "\n",
        "\n",
        "num = 100\n",
        "while num >= 1:\n",
        "    print(num)\n",
        "    num /= 2"
      ],
      "metadata": {
        "id": "Yj6h1vlcZzzx"
      },
      "execution_count": null,
      "outputs": []
    },
    {
      "cell_type": "markdown",
      "source": [
        "# Practical Questions."
      ],
      "metadata": {
        "id": "L2-ub7Xvebpl"
      }
    },
    {
      "cell_type": "code",
      "source": [
        "# 1. Write a Python program to print \"Hello, World.\n",
        "print(\"Hello, World!\")"
      ],
      "metadata": {
        "id": "XprZ3qhie03_"
      },
      "execution_count": null,
      "outputs": []
    },
    {
      "cell_type": "code",
      "source": [
        "# 2. Write a Python program that displays your name and age.\n",
        "Name = str(input(\"Enter your name is: \"))\n",
        "Age = int(input(\"Enter your age is: \"))\n",
        "print(f\"My name is {Name} and my age is {Age}\")\n"
      ],
      "metadata": {
        "id": "k7eSscdkhK9z"
      },
      "execution_count": null,
      "outputs": []
    },
    {
      "cell_type": "code",
      "source": [
        "# 3. Write code to print all the pre-defined keywords in Python using the keyword library\n",
        "import keyword\n",
        "py_keywords = keyword.kwlist\n",
        "print(f\"There are total {len(py_keywords)} predefined keywords in python.\")\n",
        "print(\"All the pre-defined keywords in Python are:\")\n",
        "print(py_keywords)"
      ],
      "metadata": {
        "colab": {
          "base_uri": "https://localhost:8080/"
        },
        "id": "3NLalLIOiyZo",
        "outputId": "a77c08a8-a390-4e34-b8c1-0204e06387e0"
      },
      "execution_count": null,
      "outputs": [
        {
          "output_type": "stream",
          "name": "stdout",
          "text": [
            "There are total 35 predefined keywords in python.\n",
            "All the pre-defined keywords in Python are:\n",
            "['False', 'None', 'True', 'and', 'as', 'assert', 'async', 'await', 'break', 'class', 'continue', 'def', 'del', 'elif', 'else', 'except', 'finally', 'for', 'from', 'global', 'if', 'import', 'in', 'is', 'lambda', 'nonlocal', 'not', 'or', 'pass', 'raise', 'return', 'try', 'while', 'with', 'yield']\n"
          ]
        }
      ]
    },
    {
      "cell_type": "code",
      "source": [
        "# 4. Write a program that checks if a given word is a Python keyword.\n",
        "import keyword\n",
        "word = input(\"Enter a word: \")\n",
        "if keyword.iskeyword(word):\n",
        "    print(f\"'{word}' is a Python keyword.\")\n",
        "else:\n",
        "    print(f\"'{word}' is not a Python keyword.\")"
      ],
      "metadata": {
        "id": "fmBk3o_ykmrf"
      },
      "execution_count": null,
      "outputs": []
    },
    {
      "cell_type": "code",
      "source": [
        "# 5.  Create a list and tuple in Python, and demonstrate how attempting to change an element works differently for each.\n",
        "\n",
        "my_list = [1, 2, 3, 4, 5]\n",
        "my_tuple = (1, 2, 3, 4, 5)\n",
        "print(\"Original List:\", my_list)\n",
        "print(\"Original tuple:\", my_tuple)\n",
        "\n",
        "# Attempting to change an element in a list\n",
        "my_list[0] = 10\n",
        "print(\"Modified List:\", my_list)\n",
        "\n",
        "# Attempting to change an element in a tuple (this will result in an error)\n",
        "my_tuple[0] = 10\n",
        "print(\"Modified tuple:\", my_tuple)"
      ],
      "metadata": {
        "id": "_yWD8Ra0lEiy"
      },
      "execution_count": null,
      "outputs": []
    },
    {
      "cell_type": "code",
      "source": [
        "# 6.  Write a function to demonstrate the behavior of mutable and immutable arguments.\n",
        "def demo_mutable_immutable(num, my_list):\n",
        "    print(\"Before change:\")\n",
        "    print(\"num:\", num)\n",
        "    print(\"my_list:\", my_list)\n",
        "\n",
        "    # Tring to change both\n",
        "    num = num + 10        # This will creates a new number\n",
        "    my_list.append(100)   # This modifies the same list\n",
        "\n",
        "    print(\"Inside function after change:\")\n",
        "    print(\"num:\", num)\n",
        "    print(\"my_list:\", my_list)\n",
        "\n",
        "\n",
        "# Calling the function\n",
        "num = 5\n",
        "my_list = [1, 2, 3]\n",
        "\n",
        "demo_mutable_immutable(num, my_list)\n",
        "\n",
        "print(\"Outside function after call:\")\n",
        "print(\"num:\", num)\n",
        "print(\"my_list:\", my_list)"
      ],
      "metadata": {
        "colab": {
          "base_uri": "https://localhost:8080/"
        },
        "id": "wg8LmaoEtwHg",
        "outputId": "8809264d-0a7d-4a7b-a887-c7babeaf39e5"
      },
      "execution_count": null,
      "outputs": [
        {
          "output_type": "stream",
          "name": "stdout",
          "text": [
            "Before change:\n",
            "num: 5\n",
            "my_list: [1, 2, 3]\n",
            "Inside function after change:\n",
            "num: 15\n",
            "my_list: [1, 2, 3, 100]\n",
            "Outside function after call:\n",
            "num: 5\n",
            "my_list: [1, 2, 3, 100]\n"
          ]
        }
      ]
    },
    {
      "cell_type": "code",
      "source": [
        "# 7. Write a program that performs basic arithmetic operations on two user-input numbers.\n",
        "num1 = float(input(\"Enter the first number: \"))\n",
        "num2 = float(input(\"Enter the second number: \"))\n",
        "#perform basic arithmetic operation:\n",
        "print(f\"Addition of {num1} and {num2} is {num1+num2}\")\n",
        "print(f\"Subtraction of {num1} and {num2} is {num1-num2}\")\n",
        "print(f\"Multiplication of {num1} and {num2} is {num1*num2}\")\n",
        "if num2 != 0:\n",
        "  print(f\"Division of {num1} and {num2} is {num1/num2}\")\n",
        "else:\n",
        "  print(\"Division by zero is not allowed.\")"
      ],
      "metadata": {
        "id": "ysKRklJRvv0Z"
      },
      "execution_count": null,
      "outputs": []
    },
    {
      "cell_type": "code",
      "source": [
        "# 8. Write a program to demonstrate the use of logical operators.\n",
        "a = True\n",
        "b = False\n",
        "print(\"a:\",a)\n",
        "print(\"b:\",b)\n",
        "print(\"Logical AND (a and b):\", a and b)    # Will return True if both are True\n",
        "print(\"Logical OR (a or b):\", a or b)       # Will return True if any one is True\n",
        "print(\"Logical NOT (not a):\", not a)        # Will reverse the value\n",
        "print(\"Logical NOT (not b):\", not b)"
      ],
      "metadata": {
        "colab": {
          "base_uri": "https://localhost:8080/"
        },
        "id": "fd8mLcYewpDs",
        "outputId": "f7e57675-dc31-432f-f5dc-d0a58499957d"
      },
      "execution_count": null,
      "outputs": [
        {
          "output_type": "stream",
          "name": "stdout",
          "text": [
            "a: True\n",
            "b: False\n",
            "Logical AND (a and b): False\n",
            "Logical OR (a or b): True\n",
            "Logical NOT (not a): False\n",
            "Logical NOT (not b): True\n"
          ]
        }
      ]
    },
    {
      "cell_type": "code",
      "source": [
        "# 9. Write a Python program to convert user input from string to integer, float, and boolean types\n",
        "val = str(input(\"Enter the value:\", ))\n",
        "val_int = int(val)\n",
        "val_float = float(val)\n",
        "val_bool = bool(val)\n",
        "print(\"String value:\", val)\n",
        "print(\"Integer value:\", val_int)\n",
        "print(\"Float value:\", val_float)\n",
        "print(\"Boolean value:\", val_bool)\n"
      ],
      "metadata": {
        "colab": {
          "base_uri": "https://localhost:8080/"
        },
        "id": "V0HbGXnnyNIV",
        "outputId": "6940f655-89ff-487b-85e7-347eabd8f381"
      },
      "execution_count": null,
      "outputs": [
        {
          "output_type": "stream",
          "name": "stdout",
          "text": [
            "Enter the value:23\n",
            "String value: 23\n",
            "Integer value: 23\n",
            "Float value: 23.0\n",
            "Boolean value: True\n"
          ]
        }
      ]
    },
    {
      "cell_type": "code",
      "source": [
        "# 10. Write code to demonstrate type casting with list elements.\n",
        "# Demonstrating Typecasting in Python\n",
        "\n",
        "# Original list with string numbers\n",
        "str_list = [\"10\", \"20\", \"30\", \"40\"]\n",
        "\n",
        "print(\"Original list:\", str_list)\n",
        "print(\"Types before casting:\", [type(x) for x in str_list])\n",
        "\n",
        "# Convert all elements from string to integer\n",
        "int_list = [int(x) for x in str_list]\n",
        "\n",
        "print(\"\\nConverted to integers:\", int_list)\n",
        "print(\"Types after casting:\", [type(x) for x in int_list])\n",
        "\n",
        "# Convert all integers back to strings\n",
        "back_to_str = list(map(str, int_list))\n",
        "\n",
        "print(\"\\nBack to strings:\", back_to_str)\n",
        "print(\"Types after casting back:\", [type(x) for x in back_to_str])\n"
      ],
      "metadata": {
        "colab": {
          "base_uri": "https://localhost:8080/"
        },
        "id": "5pfZdzUV0Oqf",
        "outputId": "5cb5fdd5-ad14-430e-f0af-4aad2b04ba84"
      },
      "execution_count": null,
      "outputs": [
        {
          "output_type": "stream",
          "name": "stdout",
          "text": [
            "=== Implicit Typecasting ===\n",
            "a = 10 <class 'int'>\n",
            "b = 2.5 <class 'float'>\n",
            "c = a + b = 12.5 <class 'float'>\n",
            "=== Explicit Typecasting ===\n",
            "x = 2.7 <class 'float'>\n",
            "y = int(x) = 2 <class 'int'>\n",
            "str_num = 100 ( <class 'str'> )\n",
            "int_num = int(str_num) = 100 ( <class 'int'> )\n",
            "\n",
            "num = 50 ( <class 'int'> )\n",
            "str_value = str(num) = 50 ( <class 'str'> )\n"
          ]
        }
      ]
    },
    {
      "cell_type": "code",
      "source": [
        "# 11.Write a program that checks if a number is positive, negative, or zero\n",
        "num = int(input(\"Enter number: \"))\n",
        "if num < 0:\n",
        "  print(\"number is negative\")\n",
        "elif num > 0:\n",
        "  print(\"number is positive\")\n",
        "else:\n",
        "  print(\"number is zero\")"
      ],
      "metadata": {
        "id": "MgECblbx-eHz"
      },
      "execution_count": null,
      "outputs": []
    },
    {
      "cell_type": "code",
      "source": [
        "# 12.  Write a for loop to print numbers from 1 to 10\n",
        "num = 1\n",
        "for i in range(1,11):\n",
        "  print(i)\n",
        "  i+=1"
      ],
      "metadata": {
        "id": "vEncHNvm-25b"
      },
      "execution_count": null,
      "outputs": []
    },
    {
      "cell_type": "code",
      "source": [
        "#13.Write a Python program to find the sum of all even numbers between 1 and 50\n",
        "# Initialize sum\n",
        "even_sum = 0\n",
        "\n",
        "# Loop from 1 to 50\n",
        "for num in range(1, 51):\n",
        "    if num % 2 == 0:\n",
        "        even_sum += num\n",
        "\n",
        "# Print the result\n",
        "print(\"Sum of even numbers from 1 to 50 is:\", even_sum)\n"
      ],
      "metadata": {
        "id": "3bI2Sols_Hcc"
      },
      "execution_count": null,
      "outputs": []
    },
    {
      "cell_type": "code",
      "source": [
        "# 14. Write a program to reverse a string using a while loop\n",
        "text = \"hello\"\n",
        "i = len(text) - 1\n",
        "reversed_text = \"\"\n",
        "\n",
        "while i >= 0:\n",
        "    reversed_text += text[i]\n",
        "    i -= 1\n",
        "\n",
        "print(reversed_text)\n",
        "\n"
      ],
      "metadata": {
        "id": "4DXKzO_E_ucG"
      },
      "execution_count": null,
      "outputs": []
    },
    {
      "cell_type": "code",
      "source": [
        "# 15. Write a Python program to calculate the factorial of a number provided by the user using a while loop.\n",
        "num = int(input(\"Enter a number: \"))\n",
        "\n",
        "fact = 1      # Starts with 1\n",
        "i = 1         # Counter starts from 1\n",
        "\n",
        "while i <= num:\n",
        "    fact = fact * i   # Multiply fact by i\n",
        "    i = i + 1\n",
        "\n",
        "print(\"Factorial is:\", fact)\n"
      ],
      "metadata": {
        "id": "F99m5aJgAXM3"
      },
      "execution_count": null,
      "outputs": []
    }
  ]
}